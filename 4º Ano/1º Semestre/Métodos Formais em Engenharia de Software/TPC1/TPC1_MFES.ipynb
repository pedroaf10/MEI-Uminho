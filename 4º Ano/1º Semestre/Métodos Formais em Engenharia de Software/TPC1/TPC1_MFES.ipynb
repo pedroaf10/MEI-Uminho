{
  "nbformat": 4,
  "nbformat_minor": 0,
  "metadata": {
    "colab": {
      "provenance": [],
      "collapsed_sections": []
    },
    "kernelspec": {
      "name": "python3",
      "display_name": "Python 3"
    },
    "language_info": {
      "name": "python"
    }
  },
  "cells": [
    {
      "cell_type": "markdown",
      "metadata": {
        "id": "am2CxII0mDbu"
      },
      "source": [
        "# **TPC 1 - Clube Desportivo Ribeirão (SAT Solving)**\n",
        "# **Pedro Almeida Fernandes - pg47559**\n",
        "\n",
        "**O “Clube Desportivo de Ribeirão” tem as seguintes regras:**\n",
        "* Todos os sócios que usam bigode são casados.\n",
        "* Cada sócio do clube que não é de Ribeirão tem que usar camisola amarela.\n",
        "* Os sócios casados não podem assistir aos jogos ao Domingo.\n",
        "* Um sócio vai aos jogos ao Domingo se e só se é de Ribeirão.\n",
        "* Cada sócio usa bigode ou não usa camisola amarela.\n",
        "* Todos os sócios de Ribeirão usam bigode.\n"
      ]
    },
    {
      "cell_type": "code",
      "metadata": {
        "id": "o4Tpg6epPwsD"
      },
      "source": [
        "!pip install python-sat[pblib,aiger]"
      ],
      "execution_count": null,
      "outputs": []
    },
    {
      "cell_type": "markdown",
      "metadata": {
        "id": "Dph9Pky0RdmN"
      },
      "source": [
        "***1. Por forma a codificar este puzzle como problema SAT, defina um conjunto adequado de variáveis proposicionais, exprima as regras acima como fórmulas proposicionais, e converta essas fórmulas para CNF.***\n",
        "\n",
        "Considerando o seguinte :\n",
        "1.   **S** -> Ser sócio do Ribeirão\n",
        "2.   **B** -> Ter bigode\n",
        "3.   **C** -> Ser casado\n",
        "4.   **R** -> Ser de Ribeirão\n",
        "5.   **A** -> Usar camisola amarela\n",
        "6.   **D** -> Assistir jogos ao domingo\n",
        "\n",
        "\n",
        "\n",
        "*   Todos os sócios que usam bigode são casados. **S ∧ B → C**  ≡ **¬S ∨ ¬B ∨ C**  \n",
        "*   Cada sócio do clube que não é de Ribeirão tem que usar camisola amarela. **S ∧ ¬R → A** ≡ **¬S ∨ R ∨ A**\n",
        "*   Os sócios casados não podem assistir aos jogos ao Domingo. **S ∧ C → ¬D** ≡ **¬S ∨ ¬C ∨ ¬D** \n",
        "*   Um sócio vai aos jogos ao Domingo se e só se é de Ribeirão.  **S ∧ D ⟷ R** ≡ **(¬R ∨ S) ∧ (¬R ∨ D) ∧ (¬S ∨ ¬D ∨ R)** \n",
        "*   Cada sócio usa bigode ou não usa camisola amarela. **S → B ∨ ¬A** ≡ **¬S ∨ B ∨ ¬A**\n",
        "*   Todos os sócios de Ribeirão usam bigode. **S ∧ R → B** ≡ **¬S ∨ ¬R ∨ B**\n",
        "\n"
      ]
    },
    {
      "cell_type": "markdown",
      "metadata": {
        "id": "TsZbf7XvbnZm"
      },
      "source": [
        "***2. Codifique o problema num SAT solver e comprove que o conjunto de regras é consistente.***\n",
        "\n",
        "O problema é consistente caso seja satisfazível, ou seja, caso retorne SAT.\n"
      ]
    },
    {
      "cell_type": "code",
      "metadata": {
        "colab": {
          "base_uri": "https://localhost:8080/"
        },
        "id": "0IZMRNIyQhe8",
        "outputId": "5aac0c9e-2734-4baa-95d7-fa6206a2e4a5"
      },
      "source": [
        "from pysat.solvers import Minisat22\n",
        "\n",
        "s = Minisat22()\n",
        "\n",
        "rules = ['S','B','C','R','A', 'D']\n",
        "x = {}\n",
        "cont = 1\n",
        "\n",
        "for r in rules :\n",
        "  x[r] = cont\n",
        "  cont += 1\n",
        "\n",
        "s.add_clause([-x['S'], -x['B'], x['C']]) \n",
        "s.add_clause([-x['S'], x['R'], x['A']])\n",
        "s.add_clause([-x['S'], -x['C'], -x['D']])\n",
        "s.add_clause([-x['R'], x['S']])\n",
        "s.add_clause([-x['R'], x['D']])\n",
        "s.add_clause([-x['S'], -x['D'], x['R']])\n",
        "s.add_clause([-x['S'], x['B'], -x['A']])\n",
        "s.add_clause([-x['S'], -x['R'], x['B']])\n",
        "s.add_clause([x['S']])\n",
        "\n",
        "if s.solve():\n",
        "    m = s.get_model()\n",
        "    print(\"SAT\")\n",
        "    print(m)\n",
        "else:                \n",
        "    print(\"UNSAT.\")\n",
        "s.delete()  "
      ],
      "execution_count": null,
      "outputs": [
        {
          "output_type": "stream",
          "name": "stdout",
          "text": [
            "SAT\n",
            "[1, 2, 3, -4, 5, -6]\n"
          ]
        }
      ]
    },
    {
      "cell_type": "markdown",
      "metadata": {
        "id": "BWc_yED0hH8-"
      },
      "source": [
        "***3. Use agora o SAT solver para o ajudar a responder às seguintes questões:***\n"
      ]
    },
    {
      "cell_type": "markdown",
      "metadata": {
        "id": "DRlswgwYhRjH"
      },
      "source": [
        "\n",
        "***(a) A afirmação “Quem usa bigode não pode ir ao jogo ao Domingo.” é correcta?***\n",
        "\n",
        "B → ¬D ≡ ¬B ∨ ¬D\n",
        "\n",
        "No solver, caso a negação da afirmação seja UNSAT significa que esta afirmação é válida, caso contrário dará o resultado SAT.\n",
        "\n",
        "¬(¬B ∨ ¬D) ≡ B ∧ D\n"
      ]
    },
    {
      "cell_type": "code",
      "metadata": {
        "id": "W5ukl-4YiImo",
        "colab": {
          "base_uri": "https://localhost:8080/"
        },
        "outputId": "9493f132-ed25-43a5-fae5-ee7da99474be"
      },
      "source": [
        "from pysat.solvers import Minisat22\n",
        "\n",
        "s = Minisat22()\n",
        "\n",
        "rules = ['S','B','C','R','A', 'D']\n",
        "x = {}\n",
        "cont = 1\n",
        "\n",
        "for r in rules :\n",
        "  x[r] = cont\n",
        "  cont += 1\n",
        "\n",
        "s.add_clause([-x['S'], -x['B'], x['C']]) \n",
        "s.add_clause([-x['S'], x['R'], x['A']])\n",
        "s.add_clause([-x['S'], -x['C'], -x['D']])\n",
        "s.add_clause([-x['R'], x['S']])\n",
        "s.add_clause([-x['R'], x['D']])\n",
        "s.add_clause([-x['S'], -x['D'], x['R']])\n",
        "s.add_clause([-x['S'], x['B'], -x['A']])\n",
        "s.add_clause([-x['S'], -x['R'], x['B']])\n",
        "s.add_clause([x['S']])\n",
        "\n",
        "#novas clausulas\n",
        "s.add_clause([x['B']])\n",
        "s.add_clause([x['D']])\n",
        "\n",
        "if s.solve():\n",
        "    m = s.get_model()\n",
        "    print(\"SAT\")\n",
        "    print(m)\n",
        "else:                \n",
        "    print(\"UNSAT.\")\n",
        "s.delete()  "
      ],
      "execution_count": null,
      "outputs": [
        {
          "output_type": "stream",
          "name": "stdout",
          "text": [
            "UNSAT.\n"
          ]
        }
      ]
    },
    {
      "cell_type": "markdown",
      "metadata": {
        "id": "CNyyQxgL7JJN"
      },
      "source": [
        "Como o resultado obtido foi UNSAT então a afirmação “Quem usa bigode não pode ir ao jogo ao Domingo.” é correta."
      ]
    },
    {
      "cell_type": "markdown",
      "metadata": {
        "id": "VvAFrKmgiXrT"
      },
      "source": [
        "\n",
        "***(b) Pode um membro de camisola amarela ser casado?***\n",
        "\n",
        "A ∧ C \n",
        "\n",
        "No solver, caso a afirmação seja SAT significa que esta afirmação é satisfazível, caso contrário dará o resultado UNSAT."
      ]
    },
    {
      "cell_type": "code",
      "metadata": {
        "id": "mR9xOwgiigKW",
        "colab": {
          "base_uri": "https://localhost:8080/"
        },
        "outputId": "68a80a5a-0dae-4839-bae8-0253341c2bb0"
      },
      "source": [
        "from pysat.solvers import Minisat22\n",
        "\n",
        "s = Minisat22()\n",
        "\n",
        "rules = ['S','B','C','R','A', 'D']\n",
        "x = {}\n",
        "cont = 1\n",
        "\n",
        "for r in rules :\n",
        "  x[r] = cont\n",
        "  cont += 1\n",
        "\n",
        "s.add_clause([-x['S'], -x['B'], x['C']]) \n",
        "s.add_clause([-x['S'], x['R'], x['A']])\n",
        "s.add_clause([-x['S'], -x['C'], -x['D']])\n",
        "s.add_clause([-x['R'], x['S']])\n",
        "s.add_clause([-x['R'], x['D']])\n",
        "s.add_clause([-x['S'], -x['D'], x['R']])\n",
        "s.add_clause([-x['S'], x['B'], -x['A']])\n",
        "s.add_clause([-x['S'], -x['R'], x['B']])\n",
        "s.add_clause([x['S']])\n",
        "\n",
        "#novas clausulas\n",
        "s.add_clause([x['A']])\n",
        "s.add_clause([x['C']])\n",
        "\n",
        "if s.solve():\n",
        "    m = s.get_model()\n",
        "    print(\"SAT\")\n",
        "    print(m)\n",
        "else:                \n",
        "    print(\"UNSAT.\")\n",
        "s.delete() "
      ],
      "execution_count": null,
      "outputs": [
        {
          "output_type": "stream",
          "name": "stdout",
          "text": [
            "SAT\n",
            "[1, 2, 3, -4, 5, -6]\n"
          ]
        }
      ]
    },
    {
      "cell_type": "markdown",
      "metadata": {
        "id": "LlfHwnZI90BH"
      },
      "source": [
        "Como o resultado obitdo foi SAT, pode acontercer que um membro tenha camisola amarela e seja casado."
      ]
    },
    {
      "cell_type": "markdown",
      "metadata": {
        "id": "lwyXDckPihCW"
      },
      "source": [
        "***(c) A afirmação “Afinal o clube não pode ter sócios Ribeironenses.” é correcta?***\n",
        "\n",
        "S → ¬R ≡ ¬S ∨ ¬R\n",
        "\n",
        "No solver, caso a negação da afirmação seja UNSAT significa que esta afirmação é válida, caso contrário dará o resultado SAT.\n",
        "\n",
        "¬(¬S ∨ ¬R) ≡ S ∧ R\n"
      ]
    },
    {
      "cell_type": "code",
      "metadata": {
        "id": "tVcf7dNdis9K",
        "colab": {
          "base_uri": "https://localhost:8080/"
        },
        "outputId": "c08e15ca-7630-470a-b889-76e047e1caa6"
      },
      "source": [
        "from pysat.solvers import Minisat22\n",
        "\n",
        "s = Minisat22()\n",
        "\n",
        "rules = ['S','B','C','R','A', 'D']\n",
        "x = {}\n",
        "cont = 1\n",
        "\n",
        "for r in rules :\n",
        "  x[r] = cont\n",
        "  cont += 1\n",
        "\n",
        "s.add_clause([-x['S'], -x['B'], x['C']]) \n",
        "s.add_clause([-x['S'], x['R'], x['A']])\n",
        "s.add_clause([-x['S'], -x['C'], -x['D']])\n",
        "s.add_clause([-x['R'], x['S']])\n",
        "s.add_clause([-x['R'], x['D']])\n",
        "s.add_clause([-x['S'], -x['D'], x['R']])\n",
        "s.add_clause([-x['S'], x['B'], -x['A']])\n",
        "s.add_clause([-x['S'], -x['R'], x['B']])\n",
        "s.add_clause([x['S']])\n",
        "\n",
        "#novas clausulas\n",
        "s.add_clause([x['S']])\n",
        "s.add_clause([x['R']])\n",
        "\n",
        "if s.solve():\n",
        "    m = s.get_model()\n",
        "    print(\"SAT\")\n",
        "    print(m)\n",
        "else:                \n",
        "    print(\"UNSAT.\")\n",
        "s.delete() "
      ],
      "execution_count": null,
      "outputs": [
        {
          "output_type": "stream",
          "name": "stdout",
          "text": [
            "UNSAT.\n"
          ]
        }
      ]
    },
    {
      "cell_type": "markdown",
      "metadata": {
        "id": "ZqtOvxbJ-1is"
      },
      "source": [
        "Como o resultado obtido foi UNSAT então a afirmação “Afinal o clube não pode ter sócios Ribeironenses.” é correta."
      ]
    },
    {
      "cell_type": "markdown",
      "metadata": {
        "id": "vBYfNhgViunq"
      },
      "source": [
        "***(d) Os sócios casados têm todos bigode?***\n",
        "\n",
        "S ∧ C → B ≡ ¬S ∨ ¬C ∨ B\n",
        "\n",
        "No solver, caso a afirmação seja SAT significa que esta afirmação é satisfazível, caso contrário dará o resultado UNSAT.\n"
      ]
    },
    {
      "cell_type": "code",
      "metadata": {
        "id": "lUBXaZTNizYe",
        "colab": {
          "base_uri": "https://localhost:8080/"
        },
        "outputId": "3ba049f3-f59e-4f6a-c0d2-dd4ecab21bd3"
      },
      "source": [
        "from pysat.solvers import Minisat22\n",
        "\n",
        "s = Minisat22()\n",
        "\n",
        "rules = ['S','B','C','R','A', 'D']\n",
        "x = {}\n",
        "cont = 1\n",
        "\n",
        "for r in rules :\n",
        "  x[r] = cont\n",
        "  cont += 1\n",
        "\n",
        "s.add_clause([-x['S'], -x['B'], x['C']]) \n",
        "s.add_clause([-x['S'], x['R'], x['A']])\n",
        "s.add_clause([-x['S'], -x['C'], -x['D']])\n",
        "s.add_clause([-x['R'], x['S']])\n",
        "s.add_clause([-x['R'], x['D']])\n",
        "s.add_clause([-x['S'], -x['D'], x['R']])\n",
        "s.add_clause([-x['S'], x['B'], -x['A']])\n",
        "s.add_clause([-x['S'], -x['R'], x['B']])\n",
        "s.add_clause([x['S']])\n",
        "\n",
        "#novas clausulas\n",
        "s.add_clause([-x['S'], -x['C'], x['B']])\n",
        "\n",
        "if s.solve():\n",
        "    m = s.get_model()\n",
        "    print(\"SAT\")\n",
        "    print(m)\n",
        "else:                \n",
        "    print(\"UNSAT.\")\n",
        "s.delete() "
      ],
      "execution_count": null,
      "outputs": [
        {
          "output_type": "stream",
          "name": "stdout",
          "text": [
            "SAT\n",
            "[1, 2, 3, -4, 5, -6]\n"
          ]
        }
      ]
    },
    {
      "cell_type": "markdown",
      "metadata": {
        "id": "RhQYthZEAPyT"
      },
      "source": [
        "Como o resultado obitdo foi SAT, todos os sócios casados têm bigode.\n",
        "\n",
        "\n"
      ]
    },
    {
      "cell_type": "markdown",
      "metadata": {
        "id": "w0rgS7tSi0VF"
      },
      "source": [
        "***(e) A afirmação “Ao domingo nunca há sócios a assistir aos jogos.” é correcta?***\n",
        "\n",
        "D → ¬S ≡ ¬D ∨ ¬S\n",
        "\n",
        "No solver, caso a negação da afirmação seja UNSAT significa que esta afirmação é válida, caso contrário dará o resultado SAT.\n",
        "\n",
        "¬(¬D ∨ ¬S) ≡ D ∧ S"
      ]
    },
    {
      "cell_type": "code",
      "metadata": {
        "id": "aOo-e38oi_61",
        "colab": {
          "base_uri": "https://localhost:8080/"
        },
        "outputId": "39423595-19e0-42b8-eb26-97b33feaa1ea"
      },
      "source": [
        "from pysat.solvers import Minisat22\n",
        "\n",
        "s = Minisat22()\n",
        "\n",
        "rules = ['S','B','C','R','A', 'D']\n",
        "x = {}\n",
        "cont = 1\n",
        "\n",
        "for r in rules :\n",
        "  x[r] = cont\n",
        "  cont += 1\n",
        "\n",
        "s.add_clause([-x['S'], -x['B'], x['C']]) \n",
        "s.add_clause([-x['S'], x['R'], x['A']])\n",
        "s.add_clause([-x['S'], -x['C'], -x['D']])\n",
        "s.add_clause([-x['R'], x['S']])\n",
        "s.add_clause([-x['R'], x['D']])\n",
        "s.add_clause([-x['S'], -x['D'], x['R']])\n",
        "s.add_clause([-x['S'], x['B'], -x['A']])\n",
        "s.add_clause([-x['S'], -x['R'], x['B']])\n",
        "s.add_clause([x['S']])\n",
        "\n",
        "#novas clausulas\n",
        "s.add_clause([x['D']])\n",
        "s.add_clause([x['S']])\n",
        "\n",
        "if s.solve():\n",
        "    m = s.get_model()\n",
        "    print(\"SAT\")\n",
        "    print(m)\n",
        "else:                \n",
        "    print(\"UNSAT.\")\n",
        "s.delete() "
      ],
      "execution_count": null,
      "outputs": [
        {
          "output_type": "stream",
          "name": "stdout",
          "text": [
            "UNSAT.\n"
          ]
        }
      ]
    },
    {
      "cell_type": "markdown",
      "metadata": {
        "id": "Q4n6x0OeBLnJ"
      },
      "source": [
        "Como o resultado obtido foi UNSAT então a afirmação  “Ao domingo nunca há sócios a assistir aos jogos.” é correta."
      ]
    }
  ]
}